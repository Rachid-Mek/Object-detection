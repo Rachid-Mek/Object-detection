{
 "cells": [
  {
   "cell_type": "code",
   "execution_count": 1,
   "metadata": {},
   "outputs": [],
   "source": [
    "import numpy as np\n",
    "import cv2"
   ]
  },
  {
   "cell_type": "code",
   "execution_count": 3,
   "metadata": {},
   "outputs": [],
   "source": [
    " \n",
    "\n",
    "\n",
    "def apply_blur(image, kernel_size):\n",
    "    height, width, channels = image.shape\n",
    "    image_blurred = np.copy(image)\n",
    "    pad = kernel_size // 2  # Padding size based on the kernel size\n",
    "\n",
    "    # Define the blur kernel\n",
    "    kernel = np.ones((kernel_size, kernel_size), dtype=np.float32)\n",
    "    kernel /= (kernel_size * kernel_size)\n",
    "\n",
    "    # Pad the image to handle border pixels\n",
    "    padded_image = np.pad(image, ((pad, pad), (pad, pad), (0, 0)), mode='constant')\n",
    "\n",
    "    # Apply the blur filter\n",
    "    for i in range(pad, height + pad):\n",
    "        for j in range(pad, width + pad):\n",
    "            for channel in range(channels):\n",
    "                # Apply the kernel filter to the defined pixel region\n",
    "                image_blurred[i - pad, j - pad, channel] = np.sum(\n",
    "                    padded_image[i - pad:i + pad + 1, j - pad:j + pad + 1, channel] * kernel\n",
    "                )\n",
    "\n",
    "    return image_blurred.astype(np.uint8)\n",
    "\n",
    "\n",
    "\n",
    "# test image\n",
    "image = cv2.imread('images/fruits.jpg')\n",
    "cv2.imshow('Original', image)\n",
    " \n",
    "image_blurred = apply_blur(image, 5)\n",
    "\n",
    "cv2.imshow('Blurred', image_blurred)\n",
    "cv2.waitKey(0)\n",
    "cv2.destroyAllWindows()\n"
   ]
  }
 ],
 "metadata": {
  "kernelspec": {
   "display_name": "Python 3",
   "language": "python",
   "name": "python3"
  },
  "language_info": {
   "codemirror_mode": {
    "name": "ipython",
    "version": 3
   },
   "file_extension": ".py",
   "mimetype": "text/x-python",
   "name": "python",
   "nbconvert_exporter": "python",
   "pygments_lexer": "ipython3",
   "version": "3.10.0"
  }
 },
 "nbformat": 4,
 "nbformat_minor": 2
}
