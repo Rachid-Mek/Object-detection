{
 "cells": [
  {
   "cell_type": "code",
   "execution_count": 4,
   "metadata": {},
   "outputs": [],
   "source": [
    "import numpy as np\n",
    "import pandas as pd\n",
    "import cv2\n",
    "from Object_color_detection import object_color_detection"
   ]
  },
  {
   "cell_type": "code",
   "execution_count": 5,
   "metadata": {},
   "outputs": [],
   "source": [
    "def invisibility_cloak(img, cloak_color=[0, 0, 255]):\n",
    "    \"\"\"\n",
    "    Simulates the effect of an invisibility cloak by removing the specified color from the image.\n",
    "    :param img: Input image\n",
    "    :param cloak_color: Color of the cloak (default: red)\n",
    "    :return: Image with the cloak color removed\n",
    "    \"\"\"\n",
    "    img_copy = img.copy()  # Create a copy of the original image\n",
    "    img_copy = object_color_detection(img_copy, cloak_color)  # Remove the cloak color\n",
    "    return img_copy\n"
   ]
  },
  {
   "cell_type": "code",
   "execution_count": 6,
   "metadata": {},
   "outputs": [],
   "source": [
    "def green_screen(img, screen_color=[0, 255, 0], background=None):\n",
    "    \"\"\"\n",
    "    Applies a green screen effect by replacing the specified color with a background.\n",
    "    :param img: Input image\n",
    "    :param screen_color: Color to be replaced (default: green)\n",
    "    :param background: Background image or color (default: None)\n",
    "    :return: Image with green screen effect applied\n",
    "    \"\"\"\n",
    "    img_copy = img.copy()  # Create a copy of the original image\n",
    "    screen_lo, screen_hi = color_to_hsv_range(screen_color)  # Get HSV range for screen color\n",
    "    mask = cv2.inRange(bgr_to_hsv(img_copy), screen_lo, screen_hi)  # Create a mask for the screen color\n",
    "\n",
    "    if background is None:\n",
    "        # If no background provided, replace the screen color with white\n",
    "        img_copy[mask] = 255\n",
    "    else:\n",
    "        # If a background is provided, replace the screen color with the background\n",
    "        background = cv2.resize(background, (img.shape[1], img.shape[0]))\n",
    "        img_copy[mask] = background[mask]\n",
    "\n",
    "    return img_copy\n"
   ]
  },
  {
   "cell_type": "code",
   "execution_count": null,
   "metadata": {},
   "outputs": [],
   "source": [
    "# Example for Invisibility Cloak\n",
    "img = cv2.imread('path/to/cloak_image.jpg', cv2.IMREAD_COLOR)\n",
    "invisibility_result = invisibility_cloak(img, cloak_color=[0, 0, 255])\n",
    "\n",
    "# Example for Green Screen\n",
    "img = cv2.imread('path/to/greenscreen_image.jpg', cv2.IMREAD_COLOR)\n",
    "background = cv2.imread('path/to/background_image.jpg', cv2.IMREAD_COLOR)\n",
    "greenscreen_result = green_screen(img, screen_color=[0, 255, 0], background=background)\n"
   ]
  }
 ],
 "metadata": {
  "kernelspec": {
   "display_name": "Python 3",
   "language": "python",
   "name": "python3"
  },
  "language_info": {
   "codemirror_mode": {
    "name": "ipython",
    "version": 3
   },
   "file_extension": ".py",
   "mimetype": "text/x-python",
   "name": "python",
   "nbconvert_exporter": "python",
   "pygments_lexer": "ipython3",
   "version": "3.10.0"
  }
 },
 "nbformat": 4,
 "nbformat_minor": 2
}
